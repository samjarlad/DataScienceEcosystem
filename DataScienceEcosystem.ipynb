{
 "cells": [
  {
   "cell_type": "markdown",
   "id": "845d497f-335d-42b0-b521-720e88412242",
   "metadata": {},
   "source": [
    "# Data Science Tools and Ecosystem"
   ]
  },
  {
   "cell_type": "markdown",
   "id": "8a16fbed-3b23-4577-bde7-a9f8f777c136",
   "metadata": {},
   "source": [
    "In this notebook, Data Science Tools and Ecosystems are summarized"
   ]
  },
  {
   "cell_type": "markdown",
   "id": "2074c1b8-519d-40b4-8760-4b86b2f09cab",
   "metadata": {},
   "source": [
    "<b>Objectives:</b>\n",
    "\n",
    "* List popular languages for Data Science\n",
    "* List commonly used library for Data Science\n",
    "* List some open source tools for Data Science\n",
    "* Introduce arithmetic expressions in Python with examples"
   ]
  },
  {
   "cell_type": "markdown",
   "id": "8abb8507-2e7e-41f6-a3b3-66e78d03014d",
   "metadata": {},
   "source": [
    "Some of the popular languages that Data Scientists use are :\n",
    "\n",
    "1. Python\n",
    "2. R\n",
    "3. SQL\n",
    "4. Scala"
   ]
  },
  {
   "cell_type": "markdown",
   "id": "7fb61b79-b4fc-4133-ac2d-8c6c23ec9913",
   "metadata": {},
   "source": [
    "Some of the commonly used libraries used by Data Scientists include:\n",
    "\n",
    "1. Pandas\n",
    "2. Matplotlib\n",
    "3. ggplot\n",
    "4. caret"
   ]
  },
  {
   "cell_type": "markdown",
   "id": "055a0cfa-58a5-459e-91c8-cd842d26cc0c",
   "metadata": {},
   "source": [
    "|Data Science Tools|\n",
    "|--------------------|\n",
    "|1. Jupyter Notebook|\n",
    "|2. R Studio|\n",
    "|3. Visual Studio Code|\n",
    "|4. Apache Spark|"
   ]
  },
  {
   "cell_type": "markdown",
   "id": "bfccc619-595e-4547-b150-316fb0a5658f",
   "metadata": {},
   "source": [
    "### Below are a few examples of evaluating arithmetic expressions in Python\n"
   ]
  },
  {
   "cell_type": "code",
   "execution_count": 1,
   "id": "88200d8c-bd5d-42dc-bd8a-df99efc9d2a2",
   "metadata": {},
   "outputs": [
    {
     "data": {
      "text/plain": [
       "17"
      ]
     },
     "execution_count": 1,
     "metadata": {},
     "output_type": "execute_result"
    }
   ],
   "source": [
    "# This is a simple arithmetic expression to multiply then add integers\n",
    "(3*4)+5 "
   ]
  },
  {
   "cell_type": "code",
   "execution_count": 2,
   "id": "b059197d-3ee6-476b-91e3-91cef7d93191",
   "metadata": {},
   "outputs": [
    {
     "name": "stdout",
     "output_type": "stream",
     "text": [
      "3.3333333333333335\n"
     ]
    }
   ],
   "source": [
    "# This will convert 200 minutes to hours by dividing by 60\n",
    "\n",
    "def minutes_to_hours(minutes):\n",
    "    return minutes / 60\n",
    "\n",
    "minutes = 200\n",
    "hours = minutes_to_hours(minutes)\n",
    "print(hours)"
   ]
  },
  {
   "cell_type": "markdown",
   "id": "5b24422d-156d-4787-b5e7-809bb04164af",
   "metadata": {},
   "source": [
    "## Author\n",
    "Samuel F."
   ]
  },
  {
   "cell_type": "code",
   "execution_count": null,
   "id": "03c27748-edb6-49e5-bde4-6eae8823c95c",
   "metadata": {},
   "outputs": [],
   "source": []
  }
 ],
 "metadata": {
  "kernelspec": {
   "display_name": "Python 3 (ipykernel)",
   "language": "python",
   "name": "python3"
  },
  "language_info": {
   "codemirror_mode": {
    "name": "ipython",
    "version": 3
   },
   "file_extension": ".py",
   "mimetype": "text/x-python",
   "name": "python",
   "nbconvert_exporter": "python",
   "pygments_lexer": "ipython3",
   "version": "3.11.9"
  }
 },
 "nbformat": 4,
 "nbformat_minor": 5
}
